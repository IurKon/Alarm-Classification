{
 "cells": [
  {
   "cell_type": "code",
   "execution_count": 1,
   "metadata": {},
   "outputs": [
    {
     "name": "stderr",
     "output_type": "stream",
     "text": [
      "Using TensorFlow backend.\n"
     ]
    }
   ],
   "source": [
    "#importing all necessary libraries\n",
    "import pandas as pd\n",
    "import numpy as np\n",
    "from sklearn.naive_bayes import BernoulliNB\n",
    "from sklearn.model_selection import cross_validate, cross_val_score, cross_val_predict\n",
    "from sklearn import metrics\n",
    "from imblearn.pipeline import Pipeline\n",
    "from imblearn.over_sampling import SMOTENC, SMOTE, RandomOverSampler #using these oversampling methods, since the original data set is imbalanced\n",
    "import operator\n",
    "from ast import literal_eval\n",
    "import sys\n",
    "if not sys.warnoptions:\n",
    "    import warnings\n",
    "    warnings.simplefilter(\"ignore\")"
   ]
  },
  {
   "cell_type": "code",
   "execution_count": 1,
   "metadata": {},
   "outputs": [],
   "source": [
    "#loading data (file 'example_data.csv' with a separator ',')\n",
    "#columns in this example: 'sensor role', 'supply chain leg', 'distance to previous generated event (leg_rel)',\n",
    "#'distance to expected next event (leg_abs)', 'atmosphere temperature at current location (temp_p)', 'setpoint deviation (spd)',\n",
    "#'slope of two recent measurements', 'average deviation before a triggered alarm within one hour',\n",
    "#'average deviation after a triggered alarm within one next hour' (estimated with the help of random forest regressor),\n",
    "#'alarm label' (target feature)\n",
    "#!!! However, the continuous features for naive Bayes should be discretized with multi-interval discretization method by Fayyad and Irani (1993)\n",
    "df = pd.read_csv('example_data.csv', sep = ',')\n",
    "df.head(1)"
   ]
  },
  {
   "cell_type": "code",
   "execution_count": 3,
   "metadata": {},
   "outputs": [],
   "source": [
    "#splitting loaded file into predictor features and a target feature\n",
    "y = df['label']\n",
    "X = df[['sen_role', 'sc_leg', 'leg_rel', 'leg_abs', 'temp_p', 'spd', 'slope', 'db_1h', 'da_1h']]"
   ]
  },
  {
   "cell_type": "code",
   "execution_count": 2,
   "metadata": {},
   "outputs": [],
   "source": [
    "#converting all categorical variables into dummy variables and creating additional columns for this purpose\n",
    "X = pd.get_dummies(X)\n",
    "X.columns #printing all resulting columns (to be used for deletion of superfluous dummy features and\n",
    "#declaration of lists 'featurs' and 'remaining_features' in the next steps)"
   ]
  },
  {
   "cell_type": "code",
   "execution_count": 5,
   "metadata": {},
   "outputs": [],
   "source": [
    "#deleting columns that do not contain additional information (i.e., one of the columns representing each feature;\n",
    "#it means that n dummy features should be deleted for n initial fatures)\n",
    "X = X.drop([columns_to_drop_separated_by_comma], axis = 1) #instead of 'columns_to_drop_separated_by_comma' specify what columns should be dropped"
   ]
  },
  {
   "cell_type": "code",
   "execution_count": 6,
   "metadata": {},
   "outputs": [],
   "source": [
    "#creating lists containing features (or sets of features for initially categorical features)\n",
    "features = [] #the exact listing of features will depend on the number of multiple intervals found with the method Fayyad and Irani (1993); should contain all predictor features after deletion of superfluous dummy features in the previous step\n",
    "remaining_features = [] #should contain the same features as in 'features'"
   ]
  },
  {
   "cell_type": "code",
   "execution_count": 3,
   "metadata": {},
   "outputs": [],
   "source": [
    "#running an automated feature ranking procedure\n",
    "#this chunk of code will output n, n-1, ..., and two strongest features and a standard deviation for output score\n",
    "cols = []\n",
    "for i in range(len(remaining_features)):\n",
    "    for j in range(len(remaining_features[i])):\n",
    "        cols.append(remaining_features[i][j])\n",
    "                \n",
    "nb = BernoulliNB(parameters) #parameters may be skipped if no additional assumptions are made\n",
    "model = Pipeline([('smtnc', smtnc), ('clf', nb)])\n",
    "\n",
    "#going through the loop and considering all feature combinations in the backward feature elimination procedure\n",
    "for i in range(len(features) - 1):\n",
    "    rNBbe = {} #dictionary for collecting feature names and their corresponding scores in evaluation runs\n",
    "    X_new = X[cols]\n",
    "    for j in range(len(remaining_features)):\n",
    "        X_test = X_new.drop(remaining_features[j], axis = 1)\n",
    "        acc = []\n",
    "        for l in range(100):\n",
    "            ac = cross_val_score(model, X_test, y, scoring = 'accuracy', cv = 10)\n",
    "            for m in range(len(ac)):\n",
    "                acc.append(ac[m])\n",
    "        rNBbe[str(remaining_features[j])] = sum(acc)/100\n",
    "    print(len(remaining_features), ' best features are: ', rNBbe, 'std is ', np.std(acc))\n",
    "    to_remove = str(max(rNBbe.items(), key = operator.itemgetter(1))[0])\n",
    "    remaining_features.remove(literal_eval(to_remove))\n",
    "    cols = []\n",
    "    for i in range(len(remaining_features)):\n",
    "        for j in range(len(remaining_features[i])):\n",
    "            cols.append(remaining_features[i][j])"
   ]
  },
  {
   "cell_type": "code",
   "execution_count": null,
   "metadata": {},
   "outputs": [],
   "source": []
  }
 ],
 "metadata": {
  "kernelspec": {
   "display_name": "Python 3",
   "language": "python",
   "name": "python3"
  },
  "language_info": {
   "codemirror_mode": {
    "name": "ipython",
    "version": 3
   },
   "file_extension": ".py",
   "mimetype": "text/x-python",
   "name": "python",
   "nbconvert_exporter": "python",
   "pygments_lexer": "ipython3",
   "version": "3.6.8"
  }
 },
 "nbformat": 4,
 "nbformat_minor": 2
}
