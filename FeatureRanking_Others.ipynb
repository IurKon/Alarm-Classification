{
 "cells": [
  {
   "cell_type": "code",
   "execution_count": 1,
   "metadata": {},
   "outputs": [
    {
     "name": "stderr",
     "output_type": "stream",
     "text": [
      "Using TensorFlow backend.\n"
     ]
    }
   ],
   "source": [
    "#importing all necessary libraries\n",
    "import pandas as pd\n",
    "import numpy as np\n",
    "from sklearn.tree import DecisionTreeClassifier\n",
    "from sklearn.ensemble import AdaBoostClassifier\n",
    "from sklearn.svm import SVC\n",
    "from sklearn.ensemble import RandomForestClassifier\n",
    "from sklearn.neural_network import MLPClassifier\n",
    "from sklearn.linear_model import LogisticRegression\n",
    "from sklearn.neighbors import KNeighborsClassifier\n",
    "from sklearn.ensemble import GradientBoostingClassifier\n",
    "from sklearn.ensemble import BaggingClassifier\n",
    "from sklearn.model_selection import cross_validate, cross_val_score, cross_val_predict\n",
    "from sklearn import metrics\n",
    "from imblearn.pipeline import Pipeline\n",
    "from imblearn.over_sampling import SMOTENC, SMOTE, RandomOverSampler #using these oversampling methods, since the original data set is imbalanced\n",
    "import operator\n",
    "from ast import literal_eval\n",
    "import sys\n",
    "if not sys.warnoptions:\n",
    "    import warnings\n",
    "    warnings.simplefilter(\"ignore\")"
   ]
  },
  {
   "cell_type": "code",
   "execution_count": 1,
   "metadata": {},
   "outputs": [],
   "source": [
    "#loading data (file 'example_data.csv' with a separator ';')\n",
    "#columns in this example: 'sensor role', 'supply chain leg', 'distance to previous generated event (leg_rel)',\n",
    "#'distance to expected next event (leg_abs)', 'atmosphere temperature at current location (temp_p)', 'setpoint deviation (spd)',\n",
    "#'slope of two recent measurements', 'average deviation before a triggered alarm within one hour',\n",
    "#'average deviation after a triggered alarm within one next hour' (estimated with the help of random forest regressor),\n",
    "#'lower threshold', 'higher threshold', 'alarm label' (target feature)\n",
    "df = pd.read_csv('example_data.csv', sep = ';')\n",
    "df.head(1)"
   ]
  },
  {
   "cell_type": "code",
   "execution_count": 3,
   "metadata": {},
   "outputs": [],
   "source": [
    "#rescaling ambient temperature in terms of setpoint deviation units\n",
    "#df.iloc[i, 10] corresponds to higher threshold, df.iloc[i, 9] - to lower, and df.iloc[i, 4] contains the initial unscaled ambient temperature value\n",
    "for i in range(len(df)):\n",
    "    middle = (df.iloc[i, 10] - df.iloc[i, 9])/2 + df.iloc[i, 9]\n",
    "    span = (df.iloc[i, 10] - df.iloc[i, 9])/2\n",
    "    if df.iloc[i, 4] > middle:\n",
    "        df.iloc[i, 4] = (df.iloc[i, 4] - middle)/span\n",
    "    elif df.iloc[i, 4] < middle:\n",
    "        df.iloc[i, 4] = (df.iloc[i, 4] - middle)/span\n",
    "    else:\n",
    "        df.iloc[i, 4] = 0"
   ]
  },
  {
   "cell_type": "code",
   "execution_count": 4,
   "metadata": {},
   "outputs": [],
   "source": [
    "#using only needed columns for predictor features and a target feature\n",
    "y = df['label']\n",
    "X = df[['sen_role', 'sc_leg', 'leg_rel', 'leg_abs', 'temp_p', 'spd', 'slope', 'db_1h', 'da_1h']]"
   ]
  },
  {
   "cell_type": "code",
   "execution_count": 5,
   "metadata": {},
   "outputs": [],
   "source": [
    "#converting categorical variables into dummy variables and creating additional columns for this purpose\n",
    "X = pd.get_dummies(X)"
   ]
  },
  {
   "cell_type": "code",
   "execution_count": 6,
   "metadata": {},
   "outputs": [],
   "source": [
    "#deleting columns that do not contain additional information\n",
    "X = X.drop(['sen_role_AMB', 'sc_leg_e'], axis = 1)"
   ]
  },
  {
   "cell_type": "code",
   "execution_count": 2,
   "metadata": {
    "scrolled": true
   },
   "outputs": [],
   "source": [
    "#checking whether conversion went without errors\n",
    "X.head()"
   ]
  },
  {
   "cell_type": "code",
   "execution_count": 8,
   "metadata": {},
   "outputs": [],
   "source": [
    "#creating lists containing features (or sets of features for initially categorical features)\n",
    "features = [['leg_rel'], ['leg_abs'], ['temp_p'], ['spd'], ['slope'], ['db_1h'], ['da_1h'], ['sen_role_REG'],\n",
    "            ['sc_leg_f', 'sc_leg_h', 'sc_leg_p']]\n",
    "remaining_features = [['leg_rel'], ['leg_abs'], ['temp_p'], ['spd'], ['slope'], ['db_1h'], ['da_1h'], ['sen_role_REG'],\n",
    "            ['sc_leg_f', 'sc_leg_h', 'sc_leg_p']]"
   ]
  },
  {
   "cell_type": "code",
   "execution_count": 3,
   "metadata": {},
   "outputs": [],
   "source": [
    "#running an automated feature ranking procedure\n",
    "#this chunk of code will output n, n-1, ..., and two strongest features and a standard deviation for output score\n",
    "cols = []\n",
    "for i in range(len(remaining_features)):\n",
    "    for j in range(len(remaining_features[i])):\n",
    "        cols.append(remaining_features[i][j])\n",
    "        \n",
    "categorical = ['sen_role_REG', 'sc_leg_f', 'sc_leg_h', 'sc_leg_p']\n",
    "\n",
    "clf = ExampleClassifier(optimal_parameters) #this line should be replaced by the initialization of any of the classifiers compared and optimal parameters are specified based on grid hyperparameter selection procedure       \n",
    "\n",
    "#going through the loop and considering all feature combinations in the backward feature elimination procedure\n",
    "for i in range(len(features) - 1):\n",
    "    rCLFbe = {} #dictionary for collecting feature names and their corresponding scores in evaluation runs\n",
    "    X_new = X[cols]\n",
    "    for j in range(len(remaining_features)):\n",
    "        X_test = X_new.drop(remaining_features[j], axis = 1)\n",
    "        col_list = list(X_test.columns)\n",
    "        cat_feat = []\n",
    "        for k in categorical:\n",
    "            try:\n",
    "                cat_feat.append(col_list.index(k))\n",
    "            except:\n",
    "                pass\n",
    "        if len(cat_feat) < len(col_list) and len(cat_feat) != 0:\n",
    "            smtnc = SMOTENC(categorical_features = cat_feat, sampling_strategy = 0.5, random_state = 0, n_jobs = -1)\n",
    "        elif len(cat_feat) == len(col_list):\n",
    "            smtnc = RandomOverSampler(sampling_strategy = 0.5, random_state = 0)\n",
    "        elif len(cat_feat) == 0:\n",
    "            smtnc = SMOTE(sampling_strategy = 0.5, random_state = 0, n_jobs = -1)\n",
    "        else:\n",
    "            print('Error')\n",
    "        model = Pipeline([('smtnc', smtnc), ('clf', clf)])\n",
    "        acc = []\n",
    "        for l in range(100):\n",
    "            ac = cross_val_score(model, X_test, y, scoring = 'accuracy', cv = 10)\n",
    "            for m in range(len(ac)):\n",
    "                acc.append(ac[m])\n",
    "        rCLFbe[str(remaining_features[j])] = sum(acc)/100\n",
    "    print(len(remaining_features), ' best features are: ', rCLFbe, 'std is ', np.std(acc))\n",
    "    to_remove = str(max(rCLFbe.items(), key = operator.itemgetter(1))[0])\n",
    "    remaining_features.remove(literal_eval(to_remove))\n",
    "    cols = []\n",
    "    for i in range(len(remaining_features)):\n",
    "        for j in range(len(remaining_features[i])):\n",
    "            cols.append(remaining_features[i][j])"
   ]
  },
  {
   "cell_type": "code",
   "execution_count": null,
   "metadata": {},
   "outputs": [],
   "source": []
  }
 ],
 "metadata": {
  "kernelspec": {
   "display_name": "Python 3",
   "language": "python",
   "name": "python3"
  },
  "language_info": {
   "codemirror_mode": {
    "name": "ipython",
    "version": 3
   },
   "file_extension": ".py",
   "mimetype": "text/x-python",
   "name": "python",
   "nbconvert_exporter": "python",
   "pygments_lexer": "ipython3",
   "version": "3.6.8"
  }
 },
 "nbformat": 4,
 "nbformat_minor": 2
}
